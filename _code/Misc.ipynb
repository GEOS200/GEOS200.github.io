{
 "cells": [
  {
   "cell_type": "code",
   "execution_count": 4,
   "metadata": {},
   "outputs": [],
   "source": [
    "Lecture_Root = 'https://geos200.github.io/LectureSlides/'\n",
    "\n",
    "Yaml_Base = '''\n",
    "      - href: ROOTSlides/NUMBER.html\n",
    "        text: Lecture NUMBER'''\n",
    "Yaml = ''\n",
    "\n",
    "for i in range(1,30):\n",
    "    Yaml += Yaml_Base.replace('ROOT',Lecture_Root).replace('NUMBER',str(i))\n",
    "\n",
    "with open('yaml.txt','w+') as text:\n",
    "    text.write(Yaml)\n",
    "\n"
   ]
  },
  {
   "cell_type": "code",
   "execution_count": 8,
   "metadata": {},
   "outputs": [],
   "source": [
    "Lab_Root = 'https://geos200.github.io/LabAssignments/'\n",
    "\n",
    "Yaml_Base = '''\n",
    "      - href: ROOTNUMBER.html\n",
    "        text: Lab NUMBER'''\n",
    "Yaml = ''\n",
    "\n",
    "for i in range(1,8):\n",
    "    Yaml += Yaml_Base.replace('ROOT',Lab_Root).replace('NUMBER',str(i))\n",
    "\n",
    "with open('yaml.txt','w+') as text:\n",
    "    text.write(Yaml)\n"
   ]
  },
  {
   "cell_type": "code",
   "execution_count": 6,
   "metadata": {},
   "outputs": [
    {
     "name": "stdout",
     "output_type": "stream",
     "text": [
      "| -4 |   |   |\n",
      "| -3 |   |   |\n",
      "| -2 |   |   |\n",
      "| -1 |   |   |\n",
      "| 0 |   |   |\n",
      "| 1 |   |   |\n",
      "| 2 |   |   |\n",
      "| 3 |   |   |\n",
      "| 4 |   |   |\n",
      "| 5 |   |   |\n",
      "| 6 |   |   |\n",
      "| 7 |   |   |\n",
      "| 8 |   |   |\n",
      "| 9 |   |   |\n",
      "| 10 |   |   |\n",
      "| 11 |   |   |\n",
      "| 12 |   |   |\n",
      "| 13 |   |   |\n",
      "| 14 |   |   |\n",
      "| 15 |   |   |\n",
      "| 16 |   |   |\n",
      "| 17 |   |   |\n",
      "| 18 |   |   |\n",
      "| 19 |   |   |\n",
      "| 20 |   |   |\n",
      "| 21 |   |   |\n",
      "| 22 |   |   |\n",
      "| 23 |   |   |\n",
      "| 24 |   |   |\n",
      "| 25 |   |   |\n",
      "| 26 |   |   |\n",
      "| 27 |   |   |\n",
      "| 28 |   |   |\n",
      "| 29 |   |   |\n",
      "| 30 |   |   |\n",
      "| 31 |   |   |\n",
      "| 32 |   |   |\n",
      "| 33 |   |   |\n",
      "| 34 |   |   |\n",
      "| 35 |   |   |\n",
      "| 36 |   |   |\n",
      "| 37 |   |   |\n",
      "| 38 |   |   |\n",
      "| 39 |   |   |\n",
      "| 40 |   |   |\n",
      "| 41 |   |   |\n",
      "| 42 |   |   |\n",
      "| 43 |   |   |\n",
      "\n"
     ]
    }
   ],
   "source": [
    "Row = '''| NUM |   |   |\n",
    "'''\n",
    "\n",
    "Tbl = ''\n",
    "for i in range(-4,44):\n",
    "    Tbl += Row.replace('NUM',str(i))\n",
    "print(Tbl)"
   ]
  }
 ],
 "metadata": {
  "kernelspec": {
   "display_name": "geo-env",
   "language": "python",
   "name": "python3"
  },
  "language_info": {
   "codemirror_mode": {
    "name": "ipython",
    "version": 3
   },
   "file_extension": ".py",
   "mimetype": "text/x-python",
   "name": "python",
   "nbconvert_exporter": "python",
   "pygments_lexer": "ipython3",
   "version": "3.8.10"
  },
  "orig_nbformat": 4
 },
 "nbformat": 4,
 "nbformat_minor": 2
}
